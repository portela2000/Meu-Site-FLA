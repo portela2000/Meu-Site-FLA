{
  "nbformat": 4,
  "nbformat_minor": 0,
  "metadata": {
    "colab": {
      "provenance": [],
      "authorship_tag": "ABX9TyMBRIFyYymHjhfqifvYBjNy",
      "include_colab_link": true
    },
    "kernelspec": {
      "name": "python3",
      "display_name": "Python 3"
    },
    "language_info": {
      "name": "python"
    }
  },
  "cells": [
    {
      "cell_type": "markdown",
      "metadata": {
        "id": "view-in-github",
        "colab_type": "text"
      },
      "source": [
        "<a href=\"https://colab.research.google.com/github/portela2000/Meu-Site-FLA/blob/main/Untitled4.ipynb\" target=\"_parent\"><img src=\"https://colab.research.google.com/assets/colab-badge.svg\" alt=\"Open In Colab\"/></a>"
      ]
    },
    {
      "cell_type": "code",
      "execution_count": 16,
      "metadata": {
        "id": "0CUXnlIVS65_"
      },
      "outputs": [],
      "source": [
        "import numpy as np\n",
        "import pandas as pd\n"
      ]
    },
    {
      "cell_type": "code",
      "source": [
        "dados = np.array([4,4,5,5,5,5,6,6,6,6,6,6,7,7,7,7,8,8], dtype=float)\n",
        "print(\"Tamanho dos dados:\", len(dados))\n",
        "print(\"Primeiros valores:\", dados[:10])\n",
        "print(\"Últimos valores:\", dados[-5:])\n"
      ],
      "metadata": {
        "colab": {
          "base_uri": "https://localhost:8080/"
        },
        "id": "JnEUoZoXS_jg",
        "outputId": "27ae98cf-fb09-43db-c5dd-a4405801dae0"
      },
      "execution_count": 17,
      "outputs": [
        {
          "output_type": "stream",
          "name": "stdout",
          "text": [
            "Tamanho dos dados: 18\n",
            "Primeiros valores: [4. 4. 5. 5. 5. 5. 6. 6. 6. 6.]\n",
            "Últimos valores: [7. 7. 7. 8. 8.]\n"
          ]
        }
      ]
    },
    {
      "cell_type": "code",
      "source": [
        "amplitude = dados.max() - dados.min()\n",
        "print(f\"Min = {dados.min()}, Max = {dados.max()}, Amplitude = {amplitude}\")\n"
      ],
      "metadata": {
        "colab": {
          "base_uri": "https://localhost:8080/"
        },
        "id": "noIkbIjuTCHA",
        "outputId": "cdc5c5e6-0e5f-4492-f64e-0cc635d0b867"
      },
      "execution_count": 18,
      "outputs": [
        {
          "output_type": "stream",
          "name": "stdout",
          "text": [
            "Min = 4.0, Max = 8.0, Amplitude = 4.0\n"
          ]
        }
      ]
    },
    {
      "cell_type": "code",
      "source": [
        "Q1 = np.percentile(dados, 25)\n",
        "Q2 = np.percentile(dados, 50)  # Mediana\n",
        "Q3 = np.percentile(dados, 75)\n",
        "\n",
        "print(f\"Q1 = {Q1}\")\n",
        "print(f\"Q2 (Mediana) = {Q2}\")\n",
        "print(f\"Q3 = {Q3}\")\n"
      ],
      "metadata": {
        "colab": {
          "base_uri": "https://localhost:8080/"
        },
        "id": "FISE2_sGTGkO",
        "outputId": "3fda0f4d-0ced-4073-ba71-20dab9d389a2"
      },
      "execution_count": 19,
      "outputs": [
        {
          "output_type": "stream",
          "name": "stdout",
          "text": [
            "Q1 = 5.0\n",
            "Q2 (Mediana) = 6.0\n",
            "Q3 = 7.0\n"
          ]
        }
      ]
    },
    {
      "cell_type": "code",
      "source": [
        "IQR = Q3 - Q1\n",
        "print(f\"IQR = {IQR}\")\n"
      ],
      "metadata": {
        "colab": {
          "base_uri": "https://localhost:8080/"
        },
        "id": "MEKi-tGfTIOP",
        "outputId": "72d8b3cd-c1cc-414a-f34a-02a4e734ad20"
      },
      "execution_count": 20,
      "outputs": [
        {
          "output_type": "stream",
          "name": "stdout",
          "text": [
            "IQR = 2.0\n"
          ]
        }
      ]
    },
    {
      "cell_type": "code",
      "source": [
        "limite_inferior = Q1 - 1.5 * IQR\n",
        "limite_superior = Q3 + 1.5 * IQR\n",
        "\n",
        "print(f\"Limite Inferior = {limite_inferior}\")\n",
        "print(f\"Limite Superior = {limite_superior}\")\n"
      ],
      "metadata": {
        "colab": {
          "base_uri": "https://localhost:8080/"
        },
        "id": "Oms5O2GwTPlG",
        "outputId": "e2b923ee-b83a-457c-8329-0e0a5ac8d441"
      },
      "execution_count": 21,
      "outputs": [
        {
          "output_type": "stream",
          "name": "stdout",
          "text": [
            "Limite Inferior = 2.0\n",
            "Limite Superior = 10.0\n"
          ]
        }
      ]
    },
    {
      "cell_type": "code",
      "source": [
        "outliers = dados[(dados < limite_inferior) | (dados > limite_superior)]\n",
        "print(\"Outliers encontrados:\", outliers if len(outliers) > 0 else \"Nenhum\")\n"
      ],
      "metadata": {
        "colab": {
          "base_uri": "https://localhost:8080/"
        },
        "id": "lwo1eTMXTR0t",
        "outputId": "ea5ab767-7063-4e63-dec2-9241a94f32ad"
      },
      "execution_count": 22,
      "outputs": [
        {
          "output_type": "stream",
          "name": "stdout",
          "text": [
            "Outliers encontrados: Nenhum\n"
          ]
        }
      ]
    }
  ]
}